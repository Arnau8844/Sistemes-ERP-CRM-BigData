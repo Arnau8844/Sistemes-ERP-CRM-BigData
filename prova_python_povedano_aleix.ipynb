1 - print("Aleix Povedano")

2 - import datetime as dt
    
    current_date = dt.date.today()
    print(current_date)
    
3 - def muerde(tiburon):
    	print(tiburon)

    muerde("glup")

4 - (CMD:pip install numpy) import numpy as np

5 - num=np.random.randint(0,20)
    print(num)
