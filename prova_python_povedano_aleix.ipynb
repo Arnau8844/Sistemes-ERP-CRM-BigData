{
 "cells": [
  {
   "cell_type": "code",
   "execution_count": 1,
   "id": "1fc4308a",
   "metadata": {},
   "outputs": [
    {
     "name": "stdout",
     "output_type": "stream",
     "text": [
      "Aleix Povedano\n"
     ]
    }
   ],
   "source": [
    "print(\"Aleix Povedano\")"
   ]
  },
  {
   "cell_type": "code",
   "execution_count": 2,
   "id": "b94c7611",
   "metadata": {},
   "outputs": [
    {
     "name": "stdout",
     "output_type": "stream",
     "text": [
      "2023-01-16\n"
     ]
    }
   ],
   "source": [
    "import datetime as dt\n",
    "    \n",
    "current_date = dt.date.today()\n",
    "print(current_date)"
   ]
  },
  {
   "cell_type": "code",
   "execution_count": 5,
   "id": "2bc83019",
   "metadata": {},
   "outputs": [
    {
     "name": "stdout",
     "output_type": "stream",
     "text": [
      "glup\n"
     ]
    }
   ],
   "source": [
    "def muerde(tiburon):\n",
    "    print(tiburon)\n",
    "\n",
    "muerde(\"glup\")"
   ]
  },
  {
   "cell_type": "code",
   "execution_count": 6,
   "id": "eaebe5e6",
   "metadata": {},
   "outputs": [],
   "source": [
    "import numpy as np"
   ]
  },
  {
   "cell_type": "code",
   "execution_count": 9,
   "id": "fc6d7731",
   "metadata": {},
   "outputs": [
    {
     "name": "stdout",
     "output_type": "stream",
     "text": [
      "13\n"
     ]
    }
   ],
   "source": [
    "num=np.random.randint(0,20)\n",
    "print(num)"
   ]
  },
  {
   "cell_type": "code",
   "execution_count": null,
   "id": "3c6e5b96",
   "metadata": {},
   "outputs": [],
   "source": []
  }
 ],
 "metadata": {
  "kernelspec": {
   "display_name": "Python 3 (ipykernel)",
   "language": "python",
   "name": "python3"
  },
  "language_info": {
   "codemirror_mode": {
    "name": "ipython",
    "version": 3
   },
   "file_extension": ".py",
   "mimetype": "text/x-python",
   "name": "python",
   "nbconvert_exporter": "python",
   "pygments_lexer": "ipython3",
   "version": "3.8.0"
  }
 },
 "nbformat": 4,
 "nbformat_minor": 5
}
