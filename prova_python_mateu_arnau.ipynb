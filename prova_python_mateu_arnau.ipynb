{
 "cells": [
  {
   "cell_type": "code",
   "execution_count": 1,
   "id": "439f9caf",
   "metadata": {},
   "outputs": [
    {
     "name": "stdout",
     "output_type": "stream",
     "text": [
      "Arnau Mateu\n"
     ]
    }
   ],
   "source": [
    "print(\"Arnau Mateu\")"
   ]
  },
  {
   "cell_type": "code",
   "execution_count": 2,
   "id": "e6ed1114",
   "metadata": {},
   "outputs": [
    {
     "name": "stdout",
     "output_type": "stream",
     "text": [
      "date and time: 01/16/2023, 08:42:59\n"
     ]
    }
   ],
   "source": [
    "from datetime import datetime\n",
    "now = datetime.now()\n",
    "date_time = now.strftime(\"%m/%d/%Y, %H:%M:%S\")\n",
    "print(\"date and time:\",date_time)"
   ]
  },
  {
   "cell_type": "code",
   "execution_count": 3,
   "id": "9a65c64e",
   "metadata": {},
   "outputs": [],
   "source": [
    "def printarNom(nom):\n",
    "  print(\"%c\",nom)"
   ]
  },
  {
   "cell_type": "code",
   "execution_count": 5,
   "id": "e7cc1db2",
   "metadata": {},
   "outputs": [
    {
     "ename": "IndentationError",
     "evalue": "unindent does not match any outer indentation level (<tokenize>, line 3)",
     "output_type": "error",
     "traceback": [
      "\u001b[1;36m  File \u001b[1;32m<tokenize>:3\u001b[1;36m\u001b[0m\n\u001b[1;33m    print(nom)\u001b[0m\n\u001b[1;37m    ^\u001b[0m\n\u001b[1;31mIndentationError\u001b[0m\u001b[1;31m:\u001b[0m unindent does not match any outer indentation level\n"
     ]
    }
   ],
   "source": [
    "def printarNom(nom=\"Arnau Mateu\"):\n",
    "    nom=\"Arnau Mateu\"\n",
    "  print(nom)"
   ]
  },
  {
   "cell_type": "code",
   "execution_count": 7,
   "id": "a2dffd7b",
   "metadata": {},
   "outputs": [
    {
     "ename": "IndentationError",
     "evalue": "unindent does not match any outer indentation level (<tokenize>, line 3)",
     "output_type": "error",
     "traceback": [
      "\u001b[1;36m  File \u001b[1;32m<tokenize>:3\u001b[1;36m\u001b[0m\n\u001b[1;33m    print(nom)\u001b[0m\n\u001b[1;37m    ^\u001b[0m\n\u001b[1;31mIndentationError\u001b[0m\u001b[1;31m:\u001b[0m unindent does not match any outer indentation level\n"
     ]
    }
   ],
   "source": [
    "def printarNom(nom=\"Arnau Mateu\")\n",
    "    nom=\"Arnau Mateu\"\n",
    "  print(nom)"
   ]
  },
  {
   "cell_type": "code",
   "execution_count": 8,
   "id": "71a5cdf4",
   "metadata": {},
   "outputs": [],
   "source": [
    "def printaNom(nom):\n",
    "    nom = \"Arnau Mateu\"\n",
    "    print('nom: ',nom)"
   ]
  },
  {
   "cell_type": "code",
   "execution_count": 9,
   "id": "aceda2ac",
   "metadata": {},
   "outputs": [],
   "source": [
    "def printaNom(nom):\n",
    "    nom = \"Arnau Mateu\"\n",
    "    print(nom)"
   ]
  },
  {
   "cell_type": "code",
   "execution_count": 10,
   "id": "a2a76bd7",
   "metadata": {},
   "outputs": [
    {
     "name": "stdout",
     "output_type": "stream",
     "text": [
      "Arnau Mateu\n"
     ]
    }
   ],
   "source": [
    "def printarNom(nom):\n",
    "  print(nom)\n",
    "\n",
    "printarNom(\"Arnau Mateu\")"
   ]
  },
  {
   "cell_type": "code",
   "execution_count": 1,
   "id": "b8d3aa62",
   "metadata": {},
   "outputs": [],
   "source": [
    "import numpy as np\n"
   ]
  },
  {
   "cell_type": "code",
   "execution_count": 2,
   "id": "83d978e0",
   "metadata": {},
   "outputs": [
    {
     "name": "stdout",
     "output_type": "stream",
     "text": [
      "11\n"
     ]
    }
   ],
   "source": [
    "Numero=np.random.randint(0,20)\n",
    "print(Numero)\n"
   ]
  },
  {
   "cell_type": "code",
   "execution_count": null,
   "id": "38625210",
   "metadata": {},
   "outputs": [],
   "source": []
  }
 ],
 "metadata": {
  "kernelspec": {
   "display_name": "Python 3 (ipykernel)",
   "language": "python",
   "name": "python3"
  },
  "language_info": {
   "codemirror_mode": {
    "name": "ipython",
    "version": 3
   },
   "file_extension": ".py",
   "mimetype": "text/x-python",
   "name": "python",
   "nbconvert_exporter": "python",
   "pygments_lexer": "ipython3",
   "version": "3.8.0"
  }
 },
 "nbformat": 4,
 "nbformat_minor": 5
}
