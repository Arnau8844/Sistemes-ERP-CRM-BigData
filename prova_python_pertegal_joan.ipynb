{
 "cells": [
  {
   "cell_type": "code",
   "execution_count": 1,
   "id": "d37ad822",
   "metadata": {},
   "outputs": [
    {
     "name": "stdout",
     "output_type": "stream",
     "text": [
      "Joan Pertegal Ruiz\n"
     ]
    }
   ],
   "source": [
    "print(\"Joan Pertegal Ruiz\")"
   ]
  },
  {
   "cell_type": "code",
   "execution_count": 2,
   "id": "560f4326",
   "metadata": {},
   "outputs": [
    {
     "name": "stdout",
     "output_type": "stream",
     "text": [
      "2023-01-16\n"
     ]
    }
   ],
   "source": [
    "import datetime as dt\n",
    "\n",
    "current_date = dt.date.today()\n",
    "print(current_date)"
   ]
  },
  {
   "cell_type": "code",
   "execution_count": 13,
   "id": "e5000619",
   "metadata": {},
   "outputs": [
    {
     "name": "stdout",
     "output_type": "stream",
     "text": [
      "miau\n"
     ]
    }
   ],
   "source": [
    "def maulla(gato):\n",
    "  print(gato)\n",
    "\n",
    "maulla(\"miau\")"
   ]
  },
  {
   "cell_type": "code",
   "execution_count": 15,
   "id": "25591ec7",
   "metadata": {},
   "outputs": [],
   "source": [
    "import numpy as np"
   ]
  },
  {
   "cell_type": "code",
   "execution_count": 17,
   "id": "3130c62d",
   "metadata": {},
   "outputs": [
    {
     "name": "stdout",
     "output_type": "stream",
     "text": [
      "2\n"
     ]
    }
   ],
   "source": [
    "num=np.random.randint(0,20)\n",
    "print(num)"
   ]
  }
 ],
 "metadata": {
  "kernelspec": {
   "display_name": "Python 3 (ipykernel)",
   "language": "python",
   "name": "python3"
  },
  "language_info": {
   "codemirror_mode": {
    "name": "ipython",
    "version": 3
   },
   "file_extension": ".py",
   "mimetype": "text/x-python",
   "name": "python",
   "nbconvert_exporter": "python",
   "pygments_lexer": "ipython3",
   "version": "3.8.0"
  }
 },
 "nbformat": 4,
 "nbformat_minor": 5
}
